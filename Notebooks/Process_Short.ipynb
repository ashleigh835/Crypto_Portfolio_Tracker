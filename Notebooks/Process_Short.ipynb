{
 "cells": [
  {
   "cell_type": "code",
   "execution_count": null,
   "metadata": {
    "ExecuteTime": {
     "end_time": "2021-05-11T12:42:47.153721Z",
     "start_time": "2021-05-11T12:42:47.151720Z"
    }
   },
   "outputs": [],
   "source": [
    "import sys\n",
    "sys.path.append('../')"
   ]
  },
  {
   "cell_type": "code",
   "execution_count": null,
   "metadata": {
    "ExecuteTime": {
     "end_time": "2021-05-11T12:42:53.960696Z",
     "start_time": "2021-05-11T12:42:47.525697Z"
    }
   },
   "outputs": [],
   "source": [
    "from kraken import *\n",
    "from coinbase import *"
   ]
  },
  {
   "cell_type": "code",
   "execution_count": null,
   "metadata": {
    "ExecuteTime": {
     "end_time": "2021-05-11T12:42:53.992664Z",
     "start_time": "2021-05-11T12:42:53.979679Z"
    }
   },
   "outputs": [],
   "source": [
    "exchanges = {'Kraken': {},'Coinbase': {}, 'Coinbase Pro': {}}"
   ]
  },
  {
   "cell_type": "code",
   "execution_count": null,
   "metadata": {
    "ExecuteTime": {
     "end_time": "2021-05-11T12:43:23.947754Z",
     "start_time": "2021-05-11T12:42:54.010704Z"
    }
   },
   "outputs": [],
   "source": [
    "kraken = exchanges['Kraken']\n",
    "\n",
    "api_key = api_dict['Kraken']['key']\n",
    "api_sec = api_dict['Kraken']['sec']\n",
    "\n",
    "kraken['balance'], daily_prices_df, kraken['account_balances'], kraken['currencies'], daily_prices_ls = kraken_pull_all(api_key, api_sec, daily_prices_ls, daily_prices_df)"
   ]
  },
  {
   "cell_type": "code",
   "execution_count": null,
   "metadata": {
    "ExecuteTime": {
     "end_time": "2021-05-11T12:43:28.664269Z",
     "start_time": "2021-05-11T12:43:23.980060Z"
    }
   },
   "outputs": [],
   "source": [
    "coinbase = exchanges['Coinbase']\n",
    "\n",
    "api_key = api_dict['Coinbase']['key']\n",
    "api_sec = api_dict['Coinbase']['sec']\n",
    "\n",
    "coinbase['balance'], daily_prices_df, coinbase['account_balances'], coinbase['currencies'], daily_prices_ls = coinbase_pull_all(api_key, api_sec, daily_prices_ls, daily_prices_df)"
   ]
  },
  {
   "cell_type": "code",
   "execution_count": null,
   "metadata": {
    "ExecuteTime": {
     "end_time": "2021-05-11T13:39:58.864567Z",
     "start_time": "2021-05-11T13:39:58.789236Z"
    }
   },
   "outputs": [],
   "source": [
    "# COMBINE DAILY SALES WITH OUR BALANCE POSITIONS\n",
    "daily_data = daily_prices_df.merge(kraken['balance'], how='outer', left_index=True, right_index=True)\n",
    "daily_data = daily_data.merge(coinbase['balance'], how='outer', left_index=True, right_index=True)\n",
    "daily_data = daily_data.fillna(0)\n",
    "for asset in list(set(kraken['currencies'] + coinbase['currencies'])):\n",
    "    if (f'{asset}_x' in daily_data.columns) & (f'{asset}_y' in daily_data.columns):\n",
    "        daily_data[asset] = daily_data[f\"{asset}_x\"].astype(float) + daily_data[f\"{asset}_y\"].astype(float)\n",
    "        daily_data = daily_data.drop(columns = [f\"{asset}_x\",f\"{asset}_y\"])\n",
    "\n",
    "for asset in list(set(kraken['currencies'] + coinbase['currencies'])):\n",
    "    daily_data[f'cum_{asset}'] = (daily_data[asset]).cumsum()\n",
    "    daily_data = daily_data.drop(columns={asset}).rename(columns={f'cum_{asset}':asset})\n",
    "    \n",
    "    if asset not in fiat_currencies:\n",
    "        daily_data[f'{asset}$'] = daily_data[asset]*daily_data[f'{asset}/USD']"
   ]
  },
  {
   "cell_type": "code",
   "execution_count": null,
   "metadata": {
    "ExecuteTime": {
     "end_time": "2021-05-11T13:39:59.412387Z",
     "start_time": "2021-05-11T13:39:59.389416Z"
    }
   },
   "outputs": [],
   "source": [
    "daily_data.tail()"
   ]
  },
  {
   "cell_type": "code",
   "execution_count": null,
   "metadata": {
    "ExecuteTime": {
     "end_time": "2021-05-11T13:40:37.519289Z",
     "start_time": "2021-05-11T13:40:37.490319Z"
    }
   },
   "outputs": [],
   "source": [
    "daily_data.to_hdf('chart.h5','chart')"
   ]
  },
  {
   "cell_type": "code",
   "execution_count": null,
   "metadata": {
    "ExecuteTime": {
     "end_time": "2021-05-11T14:12:09.843540Z",
     "start_time": "2021-05-11T14:12:09.748637Z"
    }
   },
   "outputs": [],
   "source": [
    "import plotly.graph_objects as go\n",
    "import plotly.colors as pc\n",
    "\n",
    "df = daily_data[daily_data.index >= '2021-01-20'].copy()\n",
    "colors = pc.qualitative.Light24\n",
    "    \n",
    "fig = go.Figure()\n",
    "i=0\n",
    "for asset in list(filter(lambda x:x.endswith(\"$\"), daily_data.columns)) + ['USD']:\n",
    "    fig.add_trace(go.Scatter(\n",
    "        x=df.index, \n",
    "        y=df[asset],\n",
    "        line_color='rgba(255,255,255,0)',\n",
    "        fillcolor=colors[i],\n",
    "        name=asset.replace('$',''),\n",
    "        stackgroup='one',\n",
    "    ))\n",
    "    i+=1\n",
    "fig.update_traces(mode='lines')\n",
    "fig.show()"
   ]
  },
  {
   "cell_type": "code",
   "execution_count": null,
   "metadata": {
    "ExecuteTime": {
     "end_time": "2021-05-11T13:27:52.827549Z",
     "start_time": "2021-05-11T13:27:52.773610Z"
    }
   },
   "outputs": [],
   "source": [
    "import plotly.graph_objects as go\n",
    "import plotly.colors as pc\n",
    "\n",
    "df = daily_data[daily_data.index >= '2021-01-20'].copy()\n",
    "df = daily_data.copy()\n",
    "colors = pc.qualitative.Light24\n",
    "i=0\n",
    "fig = go.Figure()\n",
    "for asset in ['BTC']:\n",
    "    fig.add_trace(go.Scatter(\n",
    "        x=df.index, y=df[x],\n",
    "        line_color='rgba(255,255,255,0)',\n",
    "        fillcolor=colors[i],\n",
    "        name=asset.replace('$',''),\n",
    "        stackgroup='one',\n",
    "    ))\n",
    "    i+=1\n",
    "fig.update_traces(mode='lines')\n",
    "fig.show()"
   ]
  },
  {
   "cell_type": "code",
   "execution_count": null,
   "metadata": {},
   "outputs": [],
   "source": []
  }
 ],
 "metadata": {
  "kernelspec": {
   "display_name": "Python 3",
   "language": "python",
   "name": "python3"
  },
  "language_info": {
   "codemirror_mode": {
    "name": "ipython",
    "version": 3
   },
   "file_extension": ".py",
   "mimetype": "text/x-python",
   "name": "python",
   "nbconvert_exporter": "python",
   "pygments_lexer": "ipython3",
   "version": "3.7.4"
  },
  "toc": {
   "base_numbering": 1,
   "nav_menu": {},
   "number_sections": true,
   "sideBar": true,
   "skip_h1_title": false,
   "title_cell": "Table of Contents",
   "title_sidebar": "Contents",
   "toc_cell": false,
   "toc_position": {},
   "toc_section_display": true,
   "toc_window_display": false
  },
  "varInspector": {
   "cols": {
    "lenName": 16,
    "lenType": 16,
    "lenVar": 40
   },
   "kernels_config": {
    "python": {
     "delete_cmd_postfix": "",
     "delete_cmd_prefix": "del ",
     "library": "var_list.py",
     "varRefreshCmd": "print(var_dic_list())"
    },
    "r": {
     "delete_cmd_postfix": ") ",
     "delete_cmd_prefix": "rm(",
     "library": "var_list.r",
     "varRefreshCmd": "cat(var_dic_list()) "
    }
   },
   "types_to_exclude": [
    "module",
    "function",
    "builtin_function_or_method",
    "instance",
    "_Feature"
   ],
   "window_display": false
  }
 },
 "nbformat": 4,
 "nbformat_minor": 2
}
