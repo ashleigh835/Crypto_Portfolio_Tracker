{
 "cells": [
  {
   "cell_type": "code",
   "execution_count": null,
   "metadata": {
    "ExecuteTime": {
     "end_time": "2021-05-09T15:10:26.422316Z",
     "start_time": "2021-05-09T15:10:26.397272Z"
    }
   },
   "outputs": [],
   "source": [
    "import sys\n",
    "sys.path.append('../')"
   ]
  },
  {
   "cell_type": "code",
   "execution_count": null,
   "metadata": {
    "ExecuteTime": {
     "end_time": "2021-05-09T15:10:32.392768Z",
     "start_time": "2021-05-09T15:10:27.748141Z"
    }
   },
   "outputs": [],
   "source": [
    "from kraken import *"
   ]
  },
  {
   "cell_type": "code",
   "execution_count": null,
   "metadata": {
    "ExecuteTime": {
     "end_time": "2021-05-09T15:10:43.781856Z",
     "start_time": "2021-05-09T15:10:43.764879Z"
    }
   },
   "outputs": [],
   "source": [
    "exchanges = {'Kraken': {}}"
   ]
  },
  {
   "cell_type": "code",
   "execution_count": null,
   "metadata": {
    "ExecuteTime": {
     "end_time": "2021-05-09T15:10:59.372541Z",
     "start_time": "2021-05-09T15:10:44.422317Z"
    }
   },
   "outputs": [],
   "source": [
    "kraken = exchanges['Kraken']\n",
    "\n",
    "api_key = api_dict['Kraken']['key']\n",
    "api_sec = api_dict['Kraken']['sec']\n",
    "\n",
    "kraken['balance'], kraken['prices'], kraken['account_balances'], kraken['currencies'] = kraken_pull_all(api_key, api_sec)"
   ]
  },
  {
   "cell_type": "code",
   "execution_count": null,
   "metadata": {
    "ExecuteTime": {
     "end_time": "2021-05-09T15:11:41.094200Z",
     "start_time": "2021-05-09T15:11:41.013292Z"
    }
   },
   "outputs": [],
   "source": [
    "# COMBINE DAILY SALES WITH OUR BALANCE POSITIONS\n",
    "daily_data = kraken['prices'].merge(kraken['balance'], how='outer', left_index=True, right_index=True)\n",
    "daily_data = daily_data.fillna(0)\n",
    "\n",
    "for asset in kraken['currencies']:\n",
    "    daily_data[f'cum_{asset}'] = (daily_data[asset]).cumsum()\n",
    "    daily_data = daily_data.drop(columns={asset}).rename(columns={f'cum_{asset}':asset})\n",
    "    \n",
    "    if asset not in fiat_currencies:\n",
    "        daily_data[f'{asset}$'] = daily_data[asset]*daily_data[f'{asset}/USD']"
   ]
  },
  {
   "cell_type": "code",
   "execution_count": null,
   "metadata": {
    "ExecuteTime": {
     "end_time": "2021-05-09T15:11:55.044082Z",
     "start_time": "2021-05-09T15:11:49.357280Z"
    }
   },
   "outputs": [],
   "source": [
    "import plotly.graph_objects as go\n",
    "\n",
    "df = daily_data[daily_data.index >= '2021-01-20'].copy()\n",
    "    \n",
    "fig = go.Figure()\n",
    "\n",
    "fig.add_trace(go.Scatter(\n",
    "    x=df.index, y=df[\"DOGE$\"],\n",
    "    line_color='rgba(255,255,255,0)',\n",
    "    fillcolor='rgba(203,152,0,0.5)',\n",
    "    fill='tonexty',\n",
    "    name='DOGE',\n",
    "))\n",
    "fig.add_trace(go.Scatter(\n",
    "    x=df.index, y=df[\"XMR$\"]+df[\"DOGE$\"],\n",
    "    fill='tonexty',\n",
    "    line_color='rgba(255,255,255,0)',\n",
    "    fillcolor='rgba(0,100,800,0.5)',\n",
    "    name='XMR',\n",
    "))\n",
    "fig.add_trace(go.Scatter(\n",
    "    x=df.index, y=df[\"ADA$\"]+df[\"XMR$\"]+df[\"DOGE$\"],\n",
    "    fill='tonexty',\n",
    "    line_color='rgba(255,255,255,0)',\n",
    "    fillcolor='rgba(0,1000,800,0.5)',\n",
    "    name='ADA',\n",
    "))\n",
    "fig.add_trace(go.Scatter(\n",
    "    x=df.index, y=df[\"DOT$\"]+df[\"ADA$\"]+df[\"XMR$\"]+df[\"DOGE$\"],\n",
    "    fill='tonexty',\n",
    "    line_color='rgba(255,255,255,0)',\n",
    "    fillcolor='rgba(0,100,100,100.5)',\n",
    "    name='DOT',\n",
    "))\n",
    "fig.add_trace(go.Scatter(\n",
    "    x=df.index, y=df[\"ETH$\"]+df[\"DOT$\"]+df[\"XMR$\"]+df[\"ADA$\"]+df[\"DOGE$\"],\n",
    "    fill='tonexty',\n",
    "    line_color='rgba(255,255,255,0)',\n",
    "    fillcolor='rgba(0,10,8000,0.5)',\n",
    "    name='ETH',\n",
    "))\n",
    "fig.add_trace(go.Scatter(\n",
    "    x=df.index, y=df[\"BTC$\"]+df[\"ETH$\"]+df[\"DOT$\"]+df[\"XMR$\"]+df[\"ADA$\"]+df[\"DOGE$\"],\n",
    "    fill='tonexty',\n",
    "    line_color='rgba(255,255,255,0)',\n",
    "    fillcolor='rgba(2030,152,0,0.5)',\n",
    "    name='BTC',\n",
    "))\n",
    "fig.add_trace(go.Scatter(\n",
    "    x=df.index, y=df[\"USD\"]+df[\"BTC$\"]+df[\"ETH$\"]+df[\"DOT$\"]+df[\"XMR$\"]+df[\"ADA$\"]+df[\"DOGE$\"],\n",
    "    fill='tonexty',\n",
    "    line_color='rgba(255,255,2550,0)',\n",
    "    fillcolor='rgba(0,1000,80,0.5)',\n",
    "    name='USD',\n",
    "))\n",
    "\n",
    "fig.update_traces(mode='lines')\n",
    "fig.show()"
   ]
  },
  {
   "cell_type": "code",
   "execution_count": null,
   "metadata": {},
   "outputs": [],
   "source": []
  },
  {
   "cell_type": "code",
   "execution_count": null,
   "metadata": {},
   "outputs": [],
   "source": []
  },
  {
   "cell_type": "code",
   "execution_count": null,
   "metadata": {},
   "outputs": [],
   "source": []
  }
 ],
 "metadata": {
  "kernelspec": {
   "display_name": "Python 3",
   "language": "python",
   "name": "python3"
  },
  "language_info": {
   "codemirror_mode": {
    "name": "ipython",
    "version": 3
   },
   "file_extension": ".py",
   "mimetype": "text/x-python",
   "name": "python",
   "nbconvert_exporter": "python",
   "pygments_lexer": "ipython3",
   "version": "3.7.4"
  },
  "toc": {
   "base_numbering": 1,
   "nav_menu": {},
   "number_sections": true,
   "sideBar": true,
   "skip_h1_title": false,
   "title_cell": "Table of Contents",
   "title_sidebar": "Contents",
   "toc_cell": false,
   "toc_position": {},
   "toc_section_display": true,
   "toc_window_display": false
  },
  "varInspector": {
   "cols": {
    "lenName": 16,
    "lenType": 16,
    "lenVar": 40
   },
   "kernels_config": {
    "python": {
     "delete_cmd_postfix": "",
     "delete_cmd_prefix": "del ",
     "library": "var_list.py",
     "varRefreshCmd": "print(var_dic_list())"
    },
    "r": {
     "delete_cmd_postfix": ") ",
     "delete_cmd_prefix": "rm(",
     "library": "var_list.r",
     "varRefreshCmd": "cat(var_dic_list()) "
    }
   },
   "types_to_exclude": [
    "module",
    "function",
    "builtin_function_or_method",
    "instance",
    "_Feature"
   ],
   "window_display": false
  }
 },
 "nbformat": 4,
 "nbformat_minor": 2
}
