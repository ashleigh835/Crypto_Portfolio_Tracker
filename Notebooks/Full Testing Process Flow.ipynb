{
 "cells": [
  {
   "cell_type": "markdown",
   "metadata": {},
   "source": [
    "# Pre-Configuration"
   ]
  },
  {
   "cell_type": "markdown",
   "metadata": {},
   "source": [
    "This notebook uses the jupyter_contrib_nbextensions package  \n",
    "Install using: **pip install jupyter_contrib_nbextensions**\n",
    "\n",
    "\n",
    "Configurable nbextensions used:\n",
    "* Collapsible Headings\n",
    "* Nbextensions edit menu item\n",
    "* Execute Time\n",
    "* Export Embedded HTML\n",
    "* jypter-js-widgets/extension\n",
    "* contrib_nbextensions_help_item\n",
    "* Hide input\n",
    "* jupyter_dash/main\n",
    "* jupyter_server_proxy/tree\n",
    "* Nbextensions dashboard tab\n",
    "* plotlywidget/extension\n",
    "* Table of contents (2)\n",
    "* Variable Inspector"
   ]
  },
  {
   "cell_type": "markdown",
   "metadata": {},
   "source": [
    "# Kraken.py Process"
   ]
  },
  {
   "cell_type": "markdown",
   "metadata": {
    "heading_collapsed": true
   },
   "source": [
    "## Packages"
   ]
  },
  {
   "cell_type": "code",
   "execution_count": null,
   "metadata": {
    "ExecuteTime": {
     "end_time": "2021-05-07T16:50:37.608654Z",
     "start_time": "2021-05-07T16:50:37.593669Z"
    },
    "hidden": true
   },
   "outputs": [],
   "source": [
    "import time\n",
    "import os\n",
    "import requests\n",
    "import urllib.parse\n",
    "import hashlib\n",
    "import hmac\n",
    "import base64\n",
    "import pandas as pd\n",
    "import json\n",
    "from cryptography.fernet import Fernet"
   ]
  },
  {
   "cell_type": "markdown",
   "metadata": {
    "heading_collapsed": true
   },
   "source": [
    "## Inputs"
   ]
  },
  {
   "cell_type": "code",
   "execution_count": null,
   "metadata": {
    "ExecuteTime": {
     "end_time": "2021-05-07T16:47:15.785794Z",
     "start_time": "2021-05-07T16:47:15.775792Z"
    },
    "hidden": true
   },
   "outputs": [],
   "source": [
    "accepted_currencies = ['XDG',\n",
    "                       'DOGE',\n",
    "                       'USD',\n",
    "                       'XMR',\n",
    "                       'BTC',\n",
    "                       'XBT',\n",
    "                       'ETH',\n",
    "                       'ADA',\n",
    "                       'DOT']\n",
    "\n",
    "fiat_currencies = ['USD','GBP']\n",
    "\n",
    "pairs = [\"DOGE/USD\",\"XMR/USD\",\"ADA/USD\",\"BTC/USD\",\"DOT/USD\",\"ETH/USD\"]"
   ]
  },
  {
   "cell_type": "markdown",
   "metadata": {
    "heading_collapsed": true
   },
   "source": [
    "## Static Variables"
   ]
  },
  {
   "cell_type": "code",
   "execution_count": null,
   "metadata": {
    "ExecuteTime": {
     "end_time": "2021-05-07T16:49:21.723486Z",
     "start_time": "2021-05-07T16:49:21.711504Z"
    },
    "hidden": true
   },
   "outputs": [],
   "source": [
    "os.environ['ENCRYPT'] = 'True'\n",
    "api_sec = b''\n",
    "api_key = b''"
   ]
  },
  {
   "cell_type": "code",
   "execution_count": null,
   "metadata": {
    "ExecuteTime": {
     "end_time": "2021-05-07T16:49:21.975728Z",
     "start_time": "2021-05-07T16:49:21.959750Z"
    },
    "hidden": true
   },
   "outputs": [],
   "source": [
    "remap_assets = {'XDG':'DOGE',\n",
    "                'XBT':'BTC'}"
   ]
  },
  {
   "cell_type": "markdown",
   "metadata": {},
   "source": [
    "## Definitions"
   ]
  },
  {
   "cell_type": "markdown",
   "metadata": {
    "heading_collapsed": true
   },
   "source": [
    "### Helper Functions"
   ]
  },
  {
   "cell_type": "code",
   "execution_count": null,
   "metadata": {
    "ExecuteTime": {
     "end_time": "2021-05-07T16:49:25.190719Z",
     "start_time": "2021-05-07T16:49:25.166731Z"
    },
    "hidden": true
   },
   "outputs": [],
   "source": [
    "def split_pair(pair, accepted_currencies=accepted_currencies):\n",
    "    \"\"\"\n",
    "    Take a pair and split individually based on the list of accepted currencies.\n",
    "    If one asset is provided, that asset will return in a duplicated array \n",
    "    e.g.\n",
    "    split_pair('VTC') return ['VTC','VTC']\n",
    "    \"\"\"\n",
    "    default_pair = {'found':False,\n",
    "             'currency_short':'',\n",
    "             'currency_long':''}\n",
    "    return_pair = [default_pair.copy(), default_pair.copy()]\n",
    "    \n",
    "    for curr in accepted_currencies:\n",
    "        for curr2 in [curr,'X'+curr,'XX'+curr,'Z'+curr]:\n",
    "            if (pair.startswith(curr2)) & (return_pair[0]['found'] == False):\n",
    "                return_pair[0]['found'] = True\n",
    "                return_pair[0]['currency_short']=curr\n",
    "                return_pair[0]['currency_long']=curr2\n",
    "            if (pair.endswith(curr2)) & (return_pair[1]['found'] == False):\n",
    "                return_pair[1]['found'] = True\n",
    "                return_pair[1]['currency_short']=curr\n",
    "                return_pair[1]['currency_long']=curr2\n",
    "                \n",
    "    if not (return_pair[0]['found'] == return_pair[1]['found'] == True):\n",
    "        if return_pair[0]['found'] == return_pair[1]['found']:\n",
    "            print(f'neither pair from {pair} were supported.')\n",
    "        else:\n",
    "            for i in return_pair:\n",
    "                if i['found']:\n",
    "                    print(f\"Currency: {pair.replace(i['currency_long'],'')} not supported, consider adding to supported list\")\n",
    "    \n",
    "    return [return_pair[0]['currency_short'],return_pair[1]['currency_short']]"
   ]
  },
  {
   "cell_type": "code",
   "execution_count": null,
   "metadata": {
    "ExecuteTime": {
     "end_time": "2021-05-07T16:49:25.674882Z",
     "start_time": "2021-05-07T16:49:25.662881Z"
    },
    "hidden": true
   },
   "outputs": [],
   "source": [
    "def parse_pairs_from_series(df, series_name):\n",
    "    \"\"\"\n",
    "    Adjust a dataframe - take the series and split into two columns\n",
    "    Returns the adjusted dataframe and the new column names\n",
    "    \"\"\"\n",
    "    pair_cols = ['pair_1','pair_2']\n",
    "    \n",
    "    pair_df = df.pair.apply(split_pair).apply(pd.Series)\n",
    "    pair_df.columns = pair_cols\n",
    "    df = df.merge(pair_df,left_index=True,right_index=True)\n",
    "    \n",
    "    return df, pair_cols"
   ]
  },
  {
   "cell_type": "code",
   "execution_count": null,
   "metadata": {
    "ExecuteTime": {
     "end_time": "2021-05-07T16:49:25.909331Z",
     "start_time": "2021-05-07T16:49:25.896331Z"
    },
    "hidden": true
   },
   "outputs": [],
   "source": [
    "def remap_and_dedupe_assets(ls, remap_assets=remap_assets):     \n",
    "    \"\"\"\n",
    "    Rename any assets in the list according to the default 'remap_assets' dict in the config\n",
    "    Returns a list of unique assets\n",
    "    \"\"\" \n",
    "    i=0\n",
    "    for asset in ls:\n",
    "        if asset in remap_assets.keys():\n",
    "            ls[i]=remap_assets[asset]\n",
    "        i+=1\n",
    "    return list(set(ls))"
   ]
  },
  {
   "cell_type": "code",
   "execution_count": null,
   "metadata": {
    "ExecuteTime": {
     "end_time": "2021-05-07T16:49:26.144738Z",
     "start_time": "2021-05-07T16:49:26.134732Z"
    },
    "hidden": true
   },
   "outputs": [],
   "source": [
    "def remap_series(df, series_name, remap_assets=remap_assets):\n",
    "    \"\"\"\n",
    "    Rename any assets in the dataframe according to the default 'remap_assets' dict in the config\n",
    "    Returns the adjusted dataframe\n",
    "    \"\"\" \n",
    "    for asset in remap_assets:\n",
    "        df[series_name] = df[series_name].str.replace(asset,remap_assets[asset])\n",
    "    return df"
   ]
  },
  {
   "cell_type": "code",
   "execution_count": null,
   "metadata": {
    "ExecuteTime": {
     "end_time": "2021-05-07T16:49:26.426723Z",
     "start_time": "2021-05-07T16:49:26.407729Z"
    },
    "hidden": true
   },
   "outputs": [],
   "source": [
    "def aggregate_balances_per_day_trade(df, currencies, pair_cols):\n",
    "    \"\"\"\n",
    "    Return a dataframe which has a column for each asset in the currencies ls\n",
    "    these columns will have the balance change for each date\n",
    "    Works off the assumption that there are two columns (pair_cols)\n",
    "        The first pair column is the valule for buy and sell volume\n",
    "        The second pair column is the valule for fees and cost\n",
    "        (THIS IS HOW IT'S SET TO BE IN KRAKEN)\n",
    "    \"\"\"\n",
    "    \n",
    "    df['vol'] = df['vol'].astype('float')\n",
    "    df['fee'] = df['fee'].astype('float')\n",
    "    df['cost'] = df['cost'].astype('float')\n",
    "    for currency in currencies:\n",
    "        df[currency]=0\n",
    "\n",
    "        df.loc[(df.type=='sell') & (df[pair_cols[0]]==currency),\n",
    "               currency] = df[currency] + (df.vol*-1)\n",
    "        df.loc[(df.type=='buy') & (df[pair_cols[0]]==currency), \n",
    "               currency] = df[currency] + (df.vol)\n",
    "\n",
    "        df.loc[df.pair_2==currency, currency] = df[currency] + (df.fee*-1)\n",
    "\n",
    "        df.loc[(df.type=='sell') & (df[pair_cols[1]]==currency)\n",
    "               , currency] = df[currency] + (df.cost)\n",
    "        df.loc[(df.type=='buy') & (df[pair_cols[1]]==currency)\n",
    "               , currency] = df[currency] + (df.cost*-1)\n",
    "    \n",
    "    return df.groupby('date').agg('sum')[currencies]"
   ]
  },
  {
   "cell_type": "code",
   "execution_count": null,
   "metadata": {
    "ExecuteTime": {
     "end_time": "2021-05-07T16:49:26.772716Z",
     "start_time": "2021-05-07T16:49:26.759747Z"
    },
    "hidden": true
   },
   "outputs": [],
   "source": [
    "def aggregate_balances_per_day_ledger(df, currencies, fee_series_name='fee', volume_series_name='amount'):\n",
    "    \"\"\"\n",
    "    Return a dataframe which as a column for each asset in the currencies ls\n",
    "    these columns will have the balance change for each date\n",
    "    \"\"\"\n",
    "    \n",
    "    df[fee_series_name] = df[fee_series_name].astype('float')\n",
    "    for currency in currencies:\n",
    "        if currency not in df.columns:\n",
    "            df[currency]=0\n",
    "        df.loc[df.asset==currency, currency] = df[currency] + (df[fee_series_name]*-1)\n",
    "    \n",
    "    df[volume_series_name] = df[volume_series_name].astype('float')\n",
    "    for currency in list(set(fiat_currencies) & set(currencies)):\n",
    "        if currency not in df.columns:\n",
    "            df[currency]=0\n",
    "            \n",
    "        df.loc[(df.asset==currency) & (df.type=='deposit'),\n",
    "               currency] = df[currency] + (df[volume_series_name])\n",
    "        df.loc[(df.asset==currency) & (df.type=='withdrawal'), \n",
    "               currency] = df[currency] + (df[volume_series_name]*-1)\n",
    "\n",
    "    return df.groupby('date').agg('sum')[currencies]"
   ]
  },
  {
   "cell_type": "code",
   "execution_count": null,
   "metadata": {
    "ExecuteTime": {
     "end_time": "2021-05-07T16:49:27.102206Z",
     "start_time": "2021-05-07T16:49:27.096230Z"
    },
    "hidden": true
   },
   "outputs": [],
   "source": [
    "def parse_api_results(resp, result_type):\n",
    "    df = pd.DataFrame()\n",
    "    for result in resp.json()['result'][result_type]:\n",
    "        temp_df = pd.DataFrame(resp.json()['result'][result_type][result], index=[result])\n",
    "        temp_df['time'] = pd.to_datetime(temp_df['time'], unit='s')  # convert to a readable date\n",
    "        temp_df['date'] = temp_df.time.dt.date.astype('datetime64')\n",
    "\n",
    "        df = pd.concat([df,temp_df])\n",
    "    return df"
   ]
  },
  {
   "cell_type": "code",
   "execution_count": null,
   "metadata": {
    "ExecuteTime": {
     "end_time": "2021-05-07T16:50:05.784689Z",
     "start_time": "2021-05-07T16:50:05.775699Z"
    },
    "hidden": true
   },
   "outputs": [],
   "source": [
    "def load_key():\n",
    "    if os.getenv('KEY') == None:\n",
    "        key = input(\"\"\"\n",
    "Please enter password:\n",
    "\"\"\")\n",
    "        os.environ['KEY'] = key\n",
    "\n",
    "    return os.environ['KEY'].encode('utf-8')"
   ]
  },
  {
   "cell_type": "code",
   "execution_count": null,
   "metadata": {
    "ExecuteTime": {
     "end_time": "2021-05-07T16:49:27.571379Z",
     "start_time": "2021-05-07T16:49:27.561390Z"
    },
    "hidden": true
   },
   "outputs": [],
   "source": [
    "def decrypt(e_passw):\n",
    "    key = load_key()\n",
    "    cipher_suite = Fernet(key)\n",
    "    return cipher_suite.decrypt(e_passw)"
   ]
  },
  {
   "cell_type": "markdown",
   "metadata": {
    "heading_collapsed": true
   },
   "source": [
    "### Kraken Private API "
   ]
  },
  {
   "cell_type": "code",
   "execution_count": null,
   "metadata": {
    "ExecuteTime": {
     "end_time": "2021-05-07T16:49:32.632716Z",
     "start_time": "2021-05-07T16:49:32.614722Z"
    },
    "hidden": true
   },
   "outputs": [],
   "source": [
    "def get_kraken_signature(urlpath, data, secret):\n",
    "    postdata = urllib.parse.urlencode(data)\n",
    "    encoded = (str(data['nonce']) + postdata).encode()\n",
    "    message = urlpath.encode() + hashlib.sha256(encoded).digest()\n",
    "\n",
    "    mac = hmac.new(base64.b64decode(secret), message, hashlib.sha512)\n",
    "    sigdigest = base64.b64encode(mac.digest())\n",
    "    return sigdigest.decode()"
   ]
  },
  {
   "cell_type": "code",
   "execution_count": null,
   "metadata": {
    "ExecuteTime": {
     "end_time": "2021-05-07T16:49:32.871078Z",
     "start_time": "2021-05-07T16:49:32.864086Z"
    },
    "hidden": true
   },
   "outputs": [],
   "source": [
    "def kraken_request(uri_path, data, api_key, api_sec):\n",
    "    api_url = \"https://api.kraken.com\"\n",
    "\n",
    "    if os.environ['ENCRYPT']:\n",
    "        api_key = decrypt(api_key)\n",
    "        api_sec = decrypt(api_sec)\n",
    "\n",
    "    headers = {}\n",
    "    headers['API-Key'] = api_key\n",
    "    # get_kraken_signature() as defined in the 'Authentication' section\n",
    "    headers['API-Sign'] = get_kraken_signature(uri_path, data, api_sec)             \n",
    "    req = requests.post((api_url + uri_path), headers=headers, data=data)\n",
    "    return req"
   ]
  },
  {
   "cell_type": "markdown",
   "metadata": {
    "heading_collapsed": true
   },
   "source": [
    "### Kraken Public API"
   ]
  },
  {
   "cell_type": "code",
   "execution_count": null,
   "metadata": {
    "ExecuteTime": {
     "end_time": "2021-05-07T16:49:34.187660Z",
     "start_time": "2021-05-07T16:49:34.174679Z"
    },
    "hidden": true
   },
   "outputs": [],
   "source": [
    "def fetch_OHLC_data(symbol, timeframe):\n",
    "    \"\"\"\n",
    "    This function will get Open/High/Low/Close, Volume and tradecount data for the pair passed\n",
    "    symbol must be in format XXX/XXX ie. BTC/USD\n",
    "    \"\"\"\n",
    "    pair_split = symbol.split('/') \n",
    "    symbol = pair_split[0] + pair_split[1]\n",
    "    url = f'https://api.kraken.com/0/public/OHLC?pair={symbol}&interval={timeframe}'\n",
    "    response = requests.get(url)\n",
    "    data=pd.DataFrame()\n",
    "    if response.status_code == 200: \n",
    "        j = json.loads(response.text)\n",
    "        result = j['result']\n",
    "        keys = []\n",
    "        for item in result:\n",
    "            keys.append(item)\n",
    "        if keys[0] != 'last':\n",
    "            data = pd.DataFrame(result[keys[0]],columns=['unix', 'open', 'high', 'low', 'close', 'vwap', 'volume', 'tradecount'])\n",
    "        else:\n",
    "            data = pd.DataFrame(result[keys[1]],columns=['unix', 'open', 'high', 'low', 'close', 'vwap', 'volume', 'tradecount'])\n",
    "\n",
    "        data['date'] = pd.to_datetime(data['unix'], unit='s')\n",
    "        data['volume_from'] = data['volume'].astype(float) * data['close'].astype(float)\n",
    "\n",
    "        if data is None:\n",
    "            print(\"Did not return any data from Kraken for this symbol\")\n",
    "    else:\n",
    "        print(\"Did not receieve OK response from Kraken API\")\n",
    "    return data"
   ]
  },
  {
   "cell_type": "code",
   "execution_count": null,
   "metadata": {
    "ExecuteTime": {
     "end_time": "2021-05-07T16:49:34.439707Z",
     "start_time": "2021-05-07T16:49:34.423723Z"
    },
    "hidden": true
   },
   "outputs": [],
   "source": [
    "def fetch_SPREAD_data(symbol):\n",
    "    \"\"\"\n",
    "    This function will return the nearest bid/ask and calculate the spread for the symbol passed\n",
    "    symbol must be in format XXX/XXX ie. BTC/USD\n",
    "    \"\"\"\n",
    "    pair_split = symbol.split('/') \n",
    "    symbol = pair_split[0] + pair_split[1]\n",
    "    url = f'https://api.kraken.com/0/public/Spread?pair={symbol}'\n",
    "    response = requests.get(url)\n",
    "    data=pd.DataFrame()\n",
    "    if response.status_code == 200: \n",
    "        j = json.loads(response.text)\n",
    "        result = j['result']\n",
    "        keys = []\n",
    "        for item in result:\n",
    "            keys.append(item)\n",
    "        if keys[0] != 'last':\n",
    "            data = pd.DataFrame(result[keys[0]], columns=['unix', 'bid', 'ask'])\n",
    "        else:\n",
    "            data = pd.DataFrame(result[keys[1]], columns=['unix', 'bid', 'ask'])\n",
    "\n",
    "        data['date'] = pd.to_datetime(data['unix'], unit='s')\n",
    "        data['spread'] = data['ask'].astype(float) - data['bid'].astype(float)\n",
    "\n",
    "        if data is None:\n",
    "            print(\"Did not return any data from Kraken for this symbol\")\n",
    "    else:\n",
    "        print(\"Did not receieve OK response from Kraken API\")\n",
    "    return data"
   ]
  },
  {
   "cell_type": "markdown",
   "metadata": {},
   "source": [
    "## Process"
   ]
  },
  {
   "cell_type": "markdown",
   "metadata": {},
   "source": [
    "### Trades Data"
   ]
  },
  {
   "cell_type": "code",
   "execution_count": null,
   "metadata": {
    "ExecuteTime": {
     "end_time": "2021-05-07T16:50:41.583141Z",
     "start_time": "2021-05-07T16:50:41.200482Z"
    }
   },
   "outputs": [],
   "source": [
    "# Pull trades\n",
    "resp = kraken_request('/0/private/TradesHistory', \n",
    "                      {\"nonce\": str(int(1000*time.time())),\n",
    "                       \"trades\": True},\n",
    "                      api_key,\n",
    "                      api_sec)\n",
    "# Process trades\n",
    "trades_df = parse_api_results(resp, 'trades')"
   ]
  },
  {
   "cell_type": "code",
   "execution_count": null,
   "metadata": {
    "ExecuteTime": {
     "end_time": "2021-05-07T16:50:44.774840Z",
     "start_time": "2021-05-07T16:50:44.655669Z"
    }
   },
   "outputs": [],
   "source": [
    "# Split pairs into individual columns\n",
    "trades_df_pairs, pair_cols = parse_pairs_from_series(trades_df.copy(),'pair')\n",
    "\n",
    "# Remap the old asset names\n",
    "# Find all currencies listed in the pairs\n",
    "currencies = []\n",
    "for pair in pair_cols:\n",
    "    trades_df_pairs = remap_series(trades_df_pairs, pair)\n",
    "    currencies += trades_df_pairs[pair].drop_duplicates().tolist()\n",
    "    \n",
    "# dedupe them and remap if necessary\n",
    "currencies = remap_and_dedupe_assets(currencies)\n",
    "\n",
    "trades_df_bare = aggregate_balances_per_day_trade(trades_df_pairs, currencies, pair_cols)"
   ]
  },
  {
   "cell_type": "markdown",
   "metadata": {},
   "source": [
    "### Ledger Data"
   ]
  },
  {
   "cell_type": "code",
   "execution_count": null,
   "metadata": {
    "ExecuteTime": {
     "end_time": "2021-05-07T16:50:48.404427Z",
     "start_time": "2021-05-07T16:50:46.223687Z"
    }
   },
   "outputs": [],
   "source": [
    "# Pull Ledger (includes withdrawals and deposits)\n",
    "# We need this to include any fees, even when we were just moving shit about\n",
    "ledger_df = pd.DataFrame()\n",
    "for asset in currencies:\n",
    "    resp = kraken_request('/0/private/Ledgers',\n",
    "                          {\"nonce\": str(int(1000*time.time())),\n",
    "                           \"asset\": asset,\n",
    "                           \"start\": 1610124514},\n",
    "                          api_key, \n",
    "                          api_sec)\n",
    "    # Process ledger\n",
    "    temp_df = parse_api_results(resp, 'ledger')\n",
    "    temp_df = temp_df[temp_df.type != 'trade']    \n",
    "    ledger_df = pd.concat([ledger_df,temp_df])"
   ]
  },
  {
   "cell_type": "code",
   "execution_count": null,
   "metadata": {
    "ExecuteTime": {
     "end_time": "2021-05-07T16:50:48.754866Z",
     "start_time": "2021-05-07T16:50:48.710402Z"
    }
   },
   "outputs": [],
   "source": [
    "ledger_df_asset = ledger_df.copy()\n",
    "ledger_df_asset['asset'] = ledger_df_asset.asset.apply(split_pair).apply(pd.Series)[0]\n",
    "ledger_df_asset = remap_series(ledger_df_asset, 'asset')\n",
    "ledger_df_bare = aggregate_balances_per_day_ledger(ledger_df_asset, currencies, 'fee', 'amount')"
   ]
  },
  {
   "cell_type": "markdown",
   "metadata": {},
   "source": [
    "### Combined Ledger & Trades"
   ]
  },
  {
   "cell_type": "code",
   "execution_count": null,
   "metadata": {
    "ExecuteTime": {
     "end_time": "2021-05-07T16:50:49.165357Z",
     "start_time": "2021-05-07T16:50:49.135387Z"
    }
   },
   "outputs": [],
   "source": [
    "# combine ledger and trades\n",
    "balance_df = pd.concat([ledger_df_bare,trades_df_bare], axis=0)\n",
    "balance_df = balance_df.groupby('date').agg(sum)\n",
    "balance_df"
   ]
  },
  {
   "cell_type": "markdown",
   "metadata": {},
   "source": [
    "### Daily Prices"
   ]
  },
  {
   "cell_type": "code",
   "execution_count": null,
   "metadata": {
    "ExecuteTime": {
     "end_time": "2021-05-07T16:50:50.419665Z",
     "start_time": "2021-05-07T16:50:50.406666Z"
    }
   },
   "outputs": [],
   "source": [
    "dta = {}"
   ]
  },
  {
   "cell_type": "code",
   "execution_count": null,
   "metadata": {
    "ExecuteTime": {
     "end_time": "2021-05-07T16:50:53.941501Z",
     "start_time": "2021-05-07T16:50:52.695154Z"
    }
   },
   "outputs": [],
   "source": [
    "# PULL DAILY PRICES FOR SPECIFIC PAIRS\n",
    "# RETURNS A DICTIONARY WITH KEY: PAIR AND VALUE = DATAFRAME OF THE DAILY DATA\n",
    "\n",
    "for pair in pairs:\n",
    "    if pair not in dta.keys():\n",
    "        print(f'new pair found! Pulling data for {pair}')\n",
    "    dta[pair] = fetch_OHLC_data(symbol=pair, timeframe='1440')  # fetches daily data"
   ]
  },
  {
   "cell_type": "code",
   "execution_count": null,
   "metadata": {
    "ExecuteTime": {
     "end_time": "2021-05-07T16:50:54.559009Z",
     "start_time": "2021-05-07T16:50:54.513397Z"
    }
   },
   "outputs": [],
   "source": [
    "# Concat all into one dataframe\n",
    "daily_values_df = pd.DataFrame()\n",
    "for pair in pairs:\n",
    "    tmpdf = dta[pair].copy()[['date','high','low']]  \n",
    "    tmpdf['high'] = tmpdf['high'].astype(float)\n",
    "    tmpdf['low'] = tmpdf['low'].astype(float)\n",
    "    tmpdf[pair] = (tmpdf['high']+tmpdf['low'])/2  \n",
    "    \n",
    "    tmpdf = tmpdf[['date',pair]].set_index('date')\n",
    "    daily_values_df = pd.concat([daily_values_df,tmpdf], axis = 1, sort=True, join='outer')"
   ]
  },
  {
   "cell_type": "code",
   "execution_count": null,
   "metadata": {},
   "outputs": [],
   "source": []
  },
  {
   "cell_type": "code",
   "execution_count": null,
   "metadata": {
    "ExecuteTime": {
     "end_time": "2021-05-07T16:50:56.123955Z",
     "start_time": "2021-05-07T16:50:55.926817Z"
    }
   },
   "outputs": [],
   "source": [
    "# Pull Balances\n",
    "resp = kraken_request('/0/private/Balance',\n",
    "                      {\"nonce\": str(int(1000*time.time()))},\n",
    "                      api_key,\n",
    "                      api_sec)\n",
    "\n",
    "account_balances = {}\n",
    "if resp.json()['result']:\n",
    "    account_balances = resp.json()['result']"
   ]
  },
  {
   "cell_type": "code",
   "execution_count": null,
   "metadata": {
    "ExecuteTime": {
     "end_time": "2021-05-07T16:50:56.795680Z",
     "start_time": "2021-05-07T16:50:56.791701Z"
    }
   },
   "outputs": [],
   "source": [
    "# RETURN:\n",
    "# balance_df\n",
    "# account_balances\n",
    "# daily_values_df"
   ]
  },
  {
   "cell_type": "markdown",
   "metadata": {},
   "source": [
    "# Charting"
   ]
  },
  {
   "cell_type": "code",
   "execution_count": null,
   "metadata": {
    "ExecuteTime": {
     "end_time": "2021-05-07T16:52:16.094573Z",
     "start_time": "2021-05-07T16:52:16.055618Z"
    }
   },
   "outputs": [],
   "source": [
    "# COMBINE DAILY SALES WITH OUR BALANCE POSITIONS\n",
    "daily_data = daily_values_df.merge(balance_df, how='outer', left_index=True, right_index=True)\n",
    "\n",
    "daily_data = daily_data.fillna(0)\n",
    "for currency in currencies:\n",
    "    daily_data[f'cum_{currency}'] = (daily_data[currency]).cumsum()\n",
    "    daily_data = daily_data.drop(columns={currency}).rename(columns={f'cum_{currency}':currency})\n",
    "    \n",
    "    if currency not in fiat_currencies:\n",
    "        daily_data[f'{currency}$'] = daily_data[currency]*daily_data[f'{currency}/USD']"
   ]
  },
  {
   "cell_type": "code",
   "execution_count": null,
   "metadata": {
    "ExecuteTime": {
     "end_time": "2021-05-07T16:52:20.801588Z",
     "start_time": "2021-05-07T16:52:20.783595Z"
    }
   },
   "outputs": [],
   "source": [
    "daily_data.tail()"
   ]
  },
  {
   "cell_type": "code",
   "execution_count": null,
   "metadata": {
    "ExecuteTime": {
     "end_time": "2021-05-07T16:52:23.031963Z",
     "start_time": "2021-05-07T16:52:22.023608Z"
    }
   },
   "outputs": [],
   "source": [
    "import plotly.graph_objects as go\n",
    "\n",
    "df = daily_data[daily_data.index >= '2021-01-20'].copy()\n",
    "    \n",
    "fig = go.Figure()\n",
    "\n",
    "fig.add_trace(go.Scatter(\n",
    "    x=df.index, y=df[\"DOGE$\"],\n",
    "    line_color='rgba(255,255,255,0)',\n",
    "    fillcolor='rgba(203,152,0,0.5)',\n",
    "    fill='tonexty',\n",
    "    name='DOGE',\n",
    "))\n",
    "fig.add_trace(go.Scatter(\n",
    "    x=df.index, y=df[\"XMR$\"]+df[\"DOGE$\"],\n",
    "    fill='tonexty',\n",
    "    line_color='rgba(255,255,255,0)',\n",
    "    fillcolor='rgba(0,100,800,0.5)',\n",
    "    name='XMR',\n",
    "))\n",
    "fig.add_trace(go.Scatter(\n",
    "    x=df.index, y=df[\"ADA$\"]+df[\"XMR$\"]+df[\"DOGE$\"],\n",
    "    fill='tonexty',\n",
    "    line_color='rgba(255,255,255,0)',\n",
    "    fillcolor='rgba(0,1000,800,0.5)',\n",
    "    name='ADA',\n",
    "))\n",
    "fig.add_trace(go.Scatter(\n",
    "    x=df.index, y=df[\"DOT$\"]+df[\"ADA$\"]+df[\"XMR$\"]+df[\"DOGE$\"],\n",
    "    fill='tonexty',\n",
    "    line_color='rgba(255,255,255,0)',\n",
    "    fillcolor='rgba(0,100,100,100.5)',\n",
    "    name='DOT',\n",
    "))\n",
    "fig.add_trace(go.Scatter(\n",
    "    x=df.index, y=df[\"ETH$\"]+df[\"DOT$\"]+df[\"XMR$\"]+df[\"ADA$\"]+df[\"DOGE$\"],\n",
    "    fill='tonexty',\n",
    "    line_color='rgba(255,255,255,0)',\n",
    "    fillcolor='rgba(0,10,8000,0.5)',\n",
    "    name='ETH',\n",
    "))\n",
    "fig.add_trace(go.Scatter(\n",
    "    x=df.index, y=df[\"BTC$\"]+df[\"ETH$\"]+df[\"DOT$\"]+df[\"XMR$\"]+df[\"ADA$\"]+df[\"DOGE$\"],\n",
    "    fill='tonexty',\n",
    "    line_color='rgba(255,255,255,0)',\n",
    "    fillcolor='rgba(2030,152,0,0.5)',\n",
    "    name='BTC',\n",
    "))\n",
    "fig.add_trace(go.Scatter(\n",
    "    x=df.index, y=df[\"USD\"]+df[\"BTC$\"]+df[\"ETH$\"]+df[\"DOT$\"]+df[\"XMR$\"]+df[\"ADA$\"]+df[\"DOGE$\"],\n",
    "    fill='tonexty',\n",
    "    line_color='rgba(255,255,2550,0)',\n",
    "    fillcolor='rgba(0,1000,80,0.5)',\n",
    "    name='USD',\n",
    "))\n",
    "\n",
    "fig.update_traces(mode='lines')\n",
    "fig.show()"
   ]
  },
  {
   "cell_type": "markdown",
   "metadata": {},
   "source": [
    "# Appendix"
   ]
  }
 ],
 "metadata": {
  "kernelspec": {
   "display_name": "Python 3",
   "language": "python",
   "name": "python3"
  },
  "language_info": {
   "codemirror_mode": {
    "name": "ipython",
    "version": 3
   },
   "file_extension": ".py",
   "mimetype": "text/x-python",
   "name": "python",
   "nbconvert_exporter": "python",
   "pygments_lexer": "ipython3",
   "version": "3.7.4"
  },
  "toc": {
   "base_numbering": 1,
   "nav_menu": {},
   "number_sections": true,
   "sideBar": true,
   "skip_h1_title": false,
   "title_cell": "Table of Contents",
   "title_sidebar": "Contents",
   "toc_cell": false,
   "toc_position": {
    "height": "calc(100% - 180px)",
    "left": "10px",
    "top": "150px",
    "width": "349.091px"
   },
   "toc_section_display": true,
   "toc_window_display": true
  },
  "varInspector": {
   "cols": {
    "lenName": 16,
    "lenType": 16,
    "lenVar": 40
   },
   "kernels_config": {
    "python": {
     "delete_cmd_postfix": "",
     "delete_cmd_prefix": "del ",
     "library": "var_list.py",
     "varRefreshCmd": "print(var_dic_list())"
    },
    "r": {
     "delete_cmd_postfix": ") ",
     "delete_cmd_prefix": "rm(",
     "library": "var_list.r",
     "varRefreshCmd": "cat(var_dic_list()) "
    }
   },
   "types_to_exclude": [
    "module",
    "function",
    "builtin_function_or_method",
    "instance",
    "_Feature"
   ],
   "window_display": false
  }
 },
 "nbformat": 4,
 "nbformat_minor": 2
}
